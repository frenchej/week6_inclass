{
 "cells": [
  {
   "cell_type": "code",
   "execution_count": 1,
   "metadata": {
    "tags": []
   },
   "outputs": [],
   "source": [
    "%%capture\n",
    "# Install the autograder to check your answers as you go along\n",
    "import sys\n",
    "!{sys.executable} -m pip install otter-grader\n",
    "# Initialize Otter \n",
    "import otter\n",
    "grader = otter.Notebook(\"group_activity5.ipynb\")"
   ]
  },
  {
   "cell_type": "markdown",
   "metadata": {
    "id": "KqdcwV6RdW9t"
   },
   "source": [
    "# In-class coding exercise #5\n",
    "Objective: Practice using Pandas and the basics of Xarray\n",
    "\n",
    "## Introduction to group coding exercises\n",
    "Today you’ll work on this exercise in the same groups of 3-4 you were assigned last week, submitting a single notebook file at the end of the class period. Decide amongst yourselves which member will upload the completed notebook to Gradescope this week. Make sure that everyone takes a turn being the “Uploader”. _You cannot upload the final code two weeks in a row._\n",
    "\n",
    "Designate a different group member to be the \"Reporter\". The Reporter will be in charge of participating in the group discussion at the end of the class session.\n",
    "\n",
    "### Workflow\n",
    "Each question will be timed to ensure that everyone gets to work on at least a part of every question. Group activities are not graded by completeness or correctness, but by effort. We will be breaking down each question in the following order:  \n",
    "1. Independent work \n",
    "2. Group work and discussion on coding question\n",
    "3. Group work and discussion on reflection questions\n",
    "\n",
    "You are welcome and encouraged to communicate with other groups and the teaching team when you feel stuck on a problem. \n",
    "\n",
    "As a reminder, we will be grading based best practices in coding. These include: \n",
    "1) Variables are used to store objects\n",
    "\n",
    "2) Code is commented adequately\n",
    "\n",
    "3) Variables are names appropriately\n",
    "\n",
    "4) Code is efficient with minimal unnecessary lines \n",
    "\n",
    "5) Documenting help from outside sources, such as from other groups or online documentation. \n",
    "\n",
    "6) Final notebook fully runs from start to finish. A good way to check this is restarting the kernel and fully running through all the cells to check for any errors.\n",
    "\n",
    "### Storing your answers\n",
    "In the code cells where you will write your answers, there will be comments denoting:\n",
    "\n",
    "\"**# your code**\"\n",
    "\n",
    "and \n",
    "\n",
    "\"**# answer variables**\"\n",
    "\n",
    "You may store any intermediary variables in the **your code** section. If you do not have any intermediary, you can also store your answer directly in the answer variables.\n",
    "\n",
    "### Required Plot Elements for Figures\n",
    "This assignments requires you to create and design figures using `matplotlib`. To practice good plotting practices, each figure will require the following to receive full points:\n",
    "1) Concise, descriptive title for each figure/subplot\n",
    "2) Axis labels with units (when possible)\n",
    "3) Appropriate axis limits (minimum and maximum)\n",
    "4) Appropriate tick resolution\n",
    "5) Legend when using different datasets \n",
    "6) Appropriate font size (a good range is 12-15)"
   ]
  },
  {
   "cell_type": "markdown",
   "metadata": {
    "id": "LQpT2M0HdmUF"
   },
   "source": [
    "## Note here **and in the Gradescope submission** each of your group members:\n",
    "1. Kaylee\n",
    "2. Arden\n",
    "3. Lizzie"
   ]
  },
  {
   "cell_type": "markdown",
   "metadata": {
    "deletable": false,
    "editable": false,
    "id": "75Fru6pykhxR"
   },
   "source": [
    "# Q1: Practice with `pandas`: Ballard Locks salmon counts (50 minutes)"
   ]
  },
  {
   "cell_type": "markdown",
   "metadata": {
    "deletable": false,
    "editable": false,
    "id": "arXwiCsM6wL1"
   },
   "source": [
    "## Part 1:\n",
    "### <font color='red'><i>~10-15 minutes</i></font>\n",
    "Here are some local salmon data we can load and visualize using pandas! Let's first get an overview of the data by practicing some dataframe functions.\n",
    "\n",
    "We will load this data from the URL listed below in the starter code cell, stored in the `filepath` string. Instead of downloading the data itself into the Jupyter environment, we will practice pulling data into our environment without saving it to the server (disk). \n",
    "\n",
    "### Instructions\n",
    "1. Load the salmon data URL into Pandas using the pandas `read_csv()` function and store it into the `salmon_df` variable. Follow the steps below to set some positional arguments in the read_csv() function while loading the file:\n",
    "> * Specify that the first (0th) column (the dates) should be the index.\n",
    ">\n",
    "> * Also specify that Pandas should parse the index as dates (datetimes).\n",
    ">\n",
    "> * Consult the documentation for [`pd.read_csv()`](https://pandas.pydata.org/pandas-docs/stable/reference/api/pandas.read_csv.html) to find the arguments to specify these two things.\n",
    "2. Display the data.\n",
    "3. Use `.describe()` to view the summary statistics.\n",
    "4. Answer the following questions with your group in a comment or a markdown cell below your code:\n",
    "\n",
    "* How many salmon species are counted?\n",
    "* When does this data start and end?\n",
    "* What are the mean daily counts for each species?\n",
    "* What are the maximum daily counts for each species?"
   ]
  },
  {
   "cell_type": "code",
   "execution_count": 2,
   "metadata": {
    "deletable": false,
    "editable": false,
    "id": "azv1gWhtWBUD",
    "tags": []
   },
   "outputs": [],
   "source": [
    "# starter code cell, DO NOT CHANGE THIS CODE!\n",
    "filepath = 'https://raw.githubusercontent.com/OCEAN-215-CLASS/week6_inclass_data/main/ballard_salmon_counts.csv'"
   ]
  },
  {
   "cell_type": "markdown",
   "metadata": {},
   "source": [
    "_Type your answer here, replacing this text._"
   ]
  },
  {
   "cell_type": "code",
   "execution_count": 32,
   "metadata": {
    "tags": []
   },
   "outputs": [
    {
     "name": "stdout",
     "output_type": "stream",
     "text": [
      "            Chinook   Coho  Sockeye\n",
      "2013-06-12      NaN    NaN   2778.0\n",
      "2013-06-13      NaN    NaN   2424.0\n",
      "2013-06-14      NaN    NaN   1285.0\n",
      "2013-06-15      NaN    NaN   2430.0\n",
      "2013-06-16      NaN    NaN   3081.0\n",
      "...             ...    ...      ...\n",
      "2020-09-28      NaN  219.0      NaN\n",
      "2020-09-29      NaN   81.0      NaN\n",
      "2020-09-30      NaN   13.0      NaN\n",
      "2020-10-01      NaN   44.0      NaN\n",
      "2020-10-02      NaN   38.0      NaN\n",
      "\n",
      "[419 rows x 3 columns]\n"
     ]
    }
   ],
   "source": [
    "# import pandas and datetime packages\n",
    "import pandas as pd \n",
    "import datetime as datetime\n",
    "\n",
    "# your code\n",
    "salmon_df = pd.read_csv(filepath,index_col=0,parse_dates=True)\n",
    "## reads the filepath csv, sets the 0th col to be the index, sets the object type of the data as datetime, and saves to salmon_df variable\n",
    "\n",
    "# print/display statements\n",
    "print(salmon_df)"
   ]
  },
  {
   "cell_type": "code",
   "execution_count": 5,
   "metadata": {
    "deletable": false,
    "editable": false,
    "tags": []
   },
   "outputs": [
    {
     "data": {
      "text/html": [
       "<p><strong><pre style='display: inline;'>Question 1, Part 1</pre></strong> passed! 🌟</p>"
      ],
      "text/plain": [
       "Question 1, Part 1 results: All test cases passed!"
      ]
     },
     "execution_count": 5,
     "metadata": {},
     "output_type": "execute_result"
    }
   ],
   "source": [
    "grader.check(\"Question 1, Part 1\")"
   ]
  },
  {
   "cell_type": "markdown",
   "metadata": {
    "deletable": false,
    "editable": false,
    "id": "M_QJKrnm8uaH"
   },
   "source": [
    "<!-- BEGIN QUESTION -->\n",
    "\n",
    "## Part 2: **Plot the data!** \n",
    "### <font color='red'><i>~15-20 minutes</i></font>\n",
    "\n",
    "### Instructions\n",
    "1. Create a single blank figure using `matplotlib.pyplot subplots()` or `figure()`.  Set the `figsize` argument so it will take up the entire width of the page. \n",
    "2. Use either `plt.plot()` or `ax.plot()` (depending on how you created your blank figure in Part 1) to make line plots of each of the three species' counts over time. In other words, the x-values should be datetimes from the index and the y-values should be daily salmon counts for each species. Your plot should have 3 different lines.\n",
    "3. Make each species the following colors for each line on your plot:\n",
    "> * Chinook: 'forestgreen'\n",
    ">\n",
    "> * Coho: 'darkcyan'\n",
    ">\n",
    "> * Sockeye: 'salmon'\n",
    ">\n",
    "\n",
    "\n",
    "4. Label your plot axes and add a title.\n",
    "5. Add a grid to your plot.\n",
    "6. Add a legend.\n",
    "7. Double check that your plot contains all the required elements as listed in the Assignment Instructions above."
   ]
  },
  {
   "cell_type": "code",
   "execution_count": 39,
   "metadata": {
    "id": "KROWGW8dWCsd",
    "tags": []
   },
   "outputs": [
    {
     "data": {
      "text/plain": [
       "<matplotlib.legend.Legend at 0x7a7f8503ff10>"
      ]
     },
     "execution_count": 39,
     "metadata": {},
     "output_type": "execute_result"
    },
    {
     "data": {
      "image/png": "[encoded data removed]",
      "text/plain": [
       "<Figure size 1400x600 with 1 Axes>"
      ]
     },
     "metadata": {},
     "output_type": "display_data"
    }
   ],
   "source": [
    "# create your figure \n",
    "\n",
    "import matplotlib.pyplot as plt ## import matplotlib.pyplot\n",
    "fig, axs = plt.subplots(figsize=(14,6)) ## create subplot with dimensions 14 wide, 6 tall\n",
    "axs.grid() ## adds grid\n",
    "\n",
    "## assigns variables x, y, y2, y3 to be used in the graph using specified labels, either the whole row index or the specific col label \n",
    "x = salmon_df.index\n",
    "y = salmon_df['Chinook']\n",
    "y2 = salmon_df['Coho']\n",
    "y3 = salmon_df['Sockeye']\n",
    "\n",
    "axs.plot(x,y, marker='.', c='forestgreen', label='Chinook') ## plots x and y with 'forestgreen', setting the label as 'Chinook'\n",
    "axs.plot(x,y2, marker='.', c='darkcyan', label='Coho') ## plots x and y2 with 'darkcyan', setting the label as 'Coho'\n",
    "axs.plot(x,y3, marker='.', c='salmon', label='Sockeye') ## plots x and y3 with 'salmon', setting the label as 'Sockeye'\n",
    "\n",
    "axs.set_xlabel('Time', fontsize=15) ## creates x label as 'Time' with fontsize=15\n",
    "axs.set_ylabel('Species Count', fontsize=15) ## creates y label as 'Species Count' with fontsize=15\n",
    "axs.set_title('Time vs. Species Count', fontsize=20) ## creates Title as 'Time vs. Species Count' with fontsize=20\n",
    "\n",
    "axs.legend() ## creates a legend"
   ]
  },
  {
   "cell_type": "markdown",
   "metadata": {
    "deletable": false,
    "editable": false,
    "id": "2qGdvYufAY__"
   },
   "source": [
    "<!-- END QUESTION -->\n",
    "\n",
    "### Part 3: **Index into the data to discover information** (2 points)\n",
    "### <font color='red'><i>~15-20 minutes</i></font>\n",
    "\n",
    "1. Use indexing to find out how many coho salmon passed through Ballard Locks on September 30, 2020, the day that Autumn Quarter started at UW in year 2020. Store this number in the `coho_count` variable without hardcoding. \n",
    "> _Hint:_ you'll need `.loc[]` and a conditional to do this\n",
    "2. Use indexing with slicing (`:`) to get the sockeye salmon counts for all dates in the years specified below. Make sure to print the results to check that they're correct.\n",
    "> * First, do this for 2020. Save the result as a new variable, `sockeye_2020`.\n",
    ">\n",
    "> * Then, do the same for 2013. Save this as `sockeye_2013`.\n",
    ">\n",
    "\n",
    "3. Apply `NumPy` functions to `sockeye_2020` and `sockeye_2013` to find the following and store in their corresponding answer variables:\n",
    "> * The maximum daily sockeye count in each year (2013 and 2020).\n",
    ">\n",
    "> * The total number of sockeye that passed through Ballard Locks in each year.\n",
    ">\n",
    "\n",
    "\n",
    "**OPTIONAL (only complete if you have extra time)**\n",
    "\n",
    "4. Do Steps 2-3 again, with a single line of code for each year and `numpy` function— in other words, without saving the sliced Pandas objects as intermediary variables. This will result in 1 line of code to slice and apply the function for each year and function.\n",
    "> * Print your outputs. They should match your answer variables in Part 3 if correct."
   ]
  },
  {
   "cell_type": "code",
   "execution_count": 34,
   "metadata": {
    "tags": []
   },
   "outputs": [],
   "source": [
    "# Solution cell for Part 3\n",
    "# which packages do you need to import? \n",
    "import numpy as np ## import numpy\n",
    "\n",
    "# your code\n",
    "\n",
    "\n",
    "# answer variables\n",
    "coho_count = salmon_df.loc['2020-09-30','Coho'] ## set coho_count to the item in row label '2020-09-30' and col label 'Coho'\n",
    "sockeye_2020 = salmon_df.loc['2020-01-01':'2020-10-02','Sockeye'] ## set sockeye_2020 to the items in rows label 2020-01-01':'2020-10-02 and col label 'Sockeye'\n",
    "sockeye_2013 = \"\"\n",
    "max_2020 = \"\"\n",
    "max_2013 = \"\"\n",
    "total_2020 = \"\"\n",
    "total_2013 = \"\"\n",
    "\n",
    "# code for optional code if you have time"
   ]
  },
  {
   "cell_type": "code",
   "execution_count": null,
   "metadata": {
    "deletable": false,
    "editable": false
   },
   "outputs": [],
   "source": [
    "grader.check(\"Question 1, Part 3\")"
   ]
  },
  {
   "cell_type": "markdown",
   "metadata": {
    "deletable": false,
    "editable": false,
    "id": "9942aIgsl_nh"
   },
   "source": [
    "<!-- BEGIN QUESTION -->\n",
    "\n",
    "# Reflection questions (5 minutes)\n",
    "The purpose of the reflection is to inform us as instructors about students comfort level with course content. We use these answers to inform how we spend class time and design coursework in subsequent weeks. This question is graded for completeness, so please answer each question in the text box below. Be concise in your answers (max. 2 sentences). \n",
    "\n",
    "1) What do you feel you excelled at in this exercise? Why?\n",
    "\n",
    "2) What did you struggle with most in the exercise? Why?\n",
    "\n",
    "3) Is there any section of the question that you did not complete? If so, briefly describe why and the section you spent the most time on. \n",
    "\n",
    "4) Is there any topic you feel we need to revisit or review in class? Why?"
   ]
  },
  {
   "cell_type": "markdown",
   "metadata": {},
   "source": [
    "1) We excelled in creating the plot and manipulating different elements to the design preference of the instructions, especially after following the online pandas documentation online resources of what to put in the argument lines. We also did well at importing all essential packages.\n",
    "\n",
    "2) We struggled with separating what information went into argument bars. The argument bar also only accepts specific calls, so if the name was not recognized, we would get an error. We ran into this problem from typing \"index =\" instead of \"index_col =\".\n",
    "\n",
    "3) We did not finished the third part because we spent most of our time on the first part. Still becoming familiar with the file and how to read the data, we struggled initally with first printing it.\n",
    "\n",
    "4) Revisiting the unpacking of a dataset in class would be helpful, more specifically, the first steps you take right after importing the data. It is difficult to know where to go from that point and how to find and use the information you need. "
   ]
  },
  {
   "cell_type": "markdown",
   "metadata": {
    "deletable": false,
    "editable": false,
    "id": "8d6J9xZiFtU2"
   },
   "source": [
    "<!-- END QUESTION -->\n",
    "\n",
    "<!-- BEGIN QUESTION -->\n",
    "\n",
    "# Question 2: Practice reading files with `xarray`: World Ocean Atlas global ocean temperatures\n",
    "### <font color='red'><i>Max time for all Q2 parts: 30 minutes</i></font>"
   ]
  },
  {
   "cell_type": "markdown",
   "metadata": {
    "deletable": false,
    "editable": false,
    "id": "mgowxnn4Jr0-"
   },
   "source": [
    "1. Load the WOA18 netCDF URL into xarray using `xr.open_dataset()` using the url string in the cell below. Set the named argument for \"decode_times=False\". This will keep the dates as a string instead of converting them to datetimes. \n",
    "2. Display the data.\n",
    "3. Using just the interactive display, answer the following questions with your group:\n",
    "\n",
    "> 1. How many data variables are there?\n",
    "> 2. The variable abbreviations aren't very informative. Using the page icon, find out what at least 3 variables represent and list them.\n",
    "> 3. What is the time range of the data?\n",
    "> 4. What is the latitude and longitude resolution (spacing) of the data? Note that we call this the \"grid spacing\" or \"resolution\" of the data.\n",
    "\n",
    "**Optional if you have time**: <br>\n",
    "Subset your xarray dataset values using xarray or numpy functions to answer the following extra credit questions. Type your answers in the markdown cell below Part 3. Answer the questions in each part in comments below or above your code in the solution cell.\n",
    "> 5. What are the dimensions of the dataset? Type this in a new variable to store and print it. Take a look at your coordinates, specifically depth. Use a `numpy` function to calculate the deepest measurement of depth. \n",
    "> 6. Let's take a look at how much sampling was done at the equator. Subset your dataset's \"lat\" coordinates to 0. Do you see any measurements? \n",
    "- If not, try experimenting with the \"method\" argument to see if you can see other measurements nearby. How many measurements do you see now?\n",
    "- What is the range of values for lat (latitude) you see shown when you use \"method\"?\n",
    "\n",
    "> 7. Create a plot of temperature at the equator using the `plot()` function on your subsetted equatorial dataset. Don't forget to reverse the y-axis for depth!\n",
    "> 8. How does temperature vary at different latitudes? Now, try subsetting a dataset to -60 with the \"lat\" coordinates. Plot your figure and compare it against your equatorial plot."
   ]
  },
  {
   "cell_type": "code",
   "execution_count": 36,
   "metadata": {
    "deletable": false,
    "editable": false,
    "tags": []
   },
   "outputs": [],
   "source": [
    "# Starter code cell, DO NOT CHANGE!\n",
    "url=\"https://www.ncei.noaa.gov/thredds-ocean/dodsC/ncei/woa/temperature/decav/1.00/woa18_decav_t00_01.nc\""
   ]
  },
  {
   "cell_type": "markdown",
   "metadata": {},
   "source": [
    "1. 12 data variables\n",
    "2. climatology_bounds- defines defines the bounds of the climatological time period for each time\n",
    "    \n",
    "    - t_mn- seawater temperature \n",
    "    - t_se seawater temp standard error\n",
    "\n",
    "3. Time range is 1\n",
    "4. The spacing is 1 for lat and long with 32 data points each."
   ]
  },
  {
   "cell_type": "code",
   "execution_count": 38,
   "metadata": {
    "tags": []
   },
   "outputs": [
    {
     "data": {
      "text/html": [
       "<div><svg style=\"position: absolute; width: 0; height: 0; overflow: hidden\">\n",
       "<defs>\n",
       "<symbol id=\"icon-database\" viewBox=\"0 0 32 32\">\n",
       "<path d=\"M16 0c-8.837 0-16 2.239-16 5v4c0 2.761 7.163 5 16 5s16-2.239 16-5v-4c0-2.761-7.163-5-16-5z\"></path>\n",
       "<path d=\"M16 17c-8.837 0-16-2.239-16-5v6c0 2.761 7.163 5 16 5s16-2.239 16-5v-6c0 2.761-7.163 5-16 5z\"></path>\n",
       "<path d=\"M16 26c-8.837 0-16-2.239-16-5v6c0 2.761 7.163 5 16 5s16-2.239 16-5v-6c0 2.761-7.163 5-16 5z\"></path>\n",
       "</symbol>\n",
       "<symbol id=\"icon-file-text2\" viewBox=\"0 0 32 32\">\n",
       "<path d=\"M28.681 7.159c-0.694-0.947-1.662-2.053-2.724-3.116s-2.169-2.030-3.116-2.724c-1.612-1.182-2.393-1.319-2.841-1.319h-15.5c-1.378 0-2.5 1.121-2.5 2.5v27c0 1.378 1.122 2.5 2.5 2.5h23c1.378 0 2.5-1.122 2.5-2.5v-19.5c0-0.448-0.137-1.23-1.319-2.841zM24.543 5.457c0.959 0.959 1.712 1.825 2.268 2.543h-4.811v-4.811c0.718 0.556 1.584 1.309 2.543 2.268zM28 29.5c0 0.271-0.229 0.5-0.5 0.5h-23c-0.271 0-0.5-0.229-0.5-0.5v-27c0-0.271 0.229-0.5 0.5-0.5 0 0 15.499-0 15.5 0v7c0 0.552 0.448 1 1 1h7v19.5z\"></path>\n",
       "<path d=\"M23 26h-14c-0.552 0-1-0.448-1-1s0.448-1 1-1h14c0.552 0 1 0.448 1 1s-0.448 1-1 1z\"></path>\n",
       "<path d=\"M23 22h-14c-0.552 0-1-0.448-1-1s0.448-1 1-1h14c0.552 0 1 0.448 1 1s-0.448 1-1 1z\"></path>\n",
       "<path d=\"M23 18h-14c-0.552 0-1-0.448-1-1s0.448-1 1-1h14c0.552 0 1 0.448 1 1s-0.448 1-1 1z\"></path>\n",
       "</symbol>\n",
       "</defs>\n",
       "</svg>\n",
       "<style>/* CSS stylesheet for displaying xarray objects in jupyterlab.\n",
       " *\n",
       " */\n",
       "\n",
       ":root {\n",
       "  --xr-font-color0: var(--jp-content-font-color0, rgba(0, 0, 0, 1));\n",
       "  --xr-font-color2: var(--jp-content-font-color2, rgba(0, 0, 0, 0.54));\n",
       "  --xr-font-color3: var(--jp-content-font-color3, rgba(0, 0, 0, 0.38));\n",
       "  --xr-border-color: var(--jp-border-color2, #e0e0e0);\n",
       "  --xr-disabled-color: var(--jp-layout-color3, #bdbdbd);\n",
       "  --xr-background-color: var(--jp-layout-color0, white);\n",
       "  --xr-background-color-row-even: var(--jp-layout-color1, white);\n",
       "  --xr-background-color-row-odd: var(--jp-layout-color2, #eeeeee);\n",
       "}\n",
       "\n",
       "html[theme=dark],\n",
       "body[data-theme=dark],\n",
       "body.vscode-dark {\n",
       "  --xr-font-color0: rgba(255, 255, 255, 1);\n",
       "  --xr-font-color2: rgba(255, 255, 255, 0.54);\n",
       "  --xr-font-color3: rgba(255, 255, 255, 0.38);\n",
       "  --xr-border-color: #1F1F1F;\n",
       "  --xr-disabled-color: #515151;\n",
       "  --xr-background-color: #111111;\n",
       "  --xr-background-color-row-even: #111111;\n",
       "  --xr-background-color-row-odd: #313131;\n",
       "}\n",
       "\n",
       ".xr-wrap {\n",
       "  display: block !important;\n",
       "  min-width: 300px;\n",
       "  max-width: 700px;\n",
       "}\n",
       "\n",
       ".xr-text-repr-fallback {\n",
       "  /* fallback to plain text repr when CSS is not injected (untrusted notebook) */\n",
       "  display: none;\n",
       "}\n",
       "\n",
       ".xr-header {\n",
       "  padding-top: 6px;\n",
       "  padding-bottom: 6px;\n",
       "  margin-bottom: 4px;\n",
       "  border-bottom: solid 1px var(--xr-border-color);\n",
       "}\n",
       "\n",
       ".xr-header > div,\n",
       ".xr-header > ul {\n",
       "  display: inline;\n",
       "  margin-top: 0;\n",
       "  margin-bottom: 0;\n",
       "}\n",
       "\n",
       ".xr-obj-type,\n",
       ".xr-array-name {\n",
       "  margin-left: 2px;\n",
       "  margin-right: 10px;\n",
       "}\n",
       "\n",
       ".xr-obj-type {\n",
       "  color: var(--xr-font-color2);\n",
       "}\n",
       "\n",
       ".xr-sections {\n",
       "  padding-left: 0 !important;\n",
       "  display: grid;\n",
       "  grid-template-columns: 150px auto auto 1fr 20px 20px;\n",
       "}\n",
       "\n",
       ".xr-section-item {\n",
       "  display: contents;\n",
       "}\n",
       "\n",
       ".xr-section-item input {\n",
       "  display: none;\n",
       "}\n",
       "\n",
       ".xr-section-item input + label {\n",
       "  color: var(--xr-disabled-color);\n",
       "}\n",
       "\n",
       ".xr-section-item input:enabled + label {\n",
       "  cursor: pointer;\n",
       "  color: var(--xr-font-color2);\n",
       "}\n",
       "\n",
       ".xr-section-item input:enabled + label:hover {\n",
       "  color: var(--xr-font-color0);\n",
       "}\n",
       "\n",
       ".xr-section-summary {\n",
       "  grid-column: 1;\n",
       "  color: var(--xr-font-color2);\n",
       "  font-weight: 500;\n",
       "}\n",
       "\n",
       ".xr-section-summary > span {\n",
       "  display: inline-block;\n",
       "  padding-left: 0.5em;\n",
       "}\n",
       "\n",
       ".xr-section-summary-in:disabled + label {\n",
       "  color: var(--xr-font-color2);\n",
       "}\n",
       "\n",
       ".xr-section-summary-in + label:before {\n",
       "  display: inline-block;\n",
       "  content: '►';\n",
       "  font-size: 11px;\n",
       "  width: 15px;\n",
       "  text-align: center;\n",
       "}\n",
       "\n",
       ".xr-section-summary-in:disabled + label:before {\n",
       "  color: var(--xr-disabled-color);\n",
       "}\n",
       "\n",
       ".xr-section-summary-in:checked + label:before {\n",
       "  content: '▼';\n",
       "}\n",
       "\n",
       ".xr-section-summary-in:checked + label > span {\n",
       "  display: none;\n",
       "}\n",
       "\n",
       ".xr-section-summary,\n",
       ".xr-section-inline-details {\n",
       "  padding-top: 4px;\n",
       "  padding-bottom: 4px;\n",
       "}\n",
       "\n",
       ".xr-section-inline-details {\n",
       "  grid-column: 2 / -1;\n",
       "}\n",
       "\n",
       ".xr-section-details {\n",
       "  display: none;\n",
       "  grid-column: 1 / -1;\n",
       "  margin-bottom: 5px;\n",
       "}\n",
       "\n",
       ".xr-section-summary-in:checked ~ .xr-section-details {\n",
       "  display: contents;\n",
       "}\n",
       "\n",
       ".xr-array-wrap {\n",
       "  grid-column: 1 / -1;\n",
       "  display: grid;\n",
       "  grid-template-columns: 20px auto;\n",
       "}\n",
       "\n",
       ".xr-array-wrap > label {\n",
       "  grid-column: 1;\n",
       "  vertical-align: top;\n",
       "}\n",
       "\n",
       ".xr-preview {\n",
       "  color: var(--xr-font-color3);\n",
       "}\n",
       "\n",
       ".xr-array-preview,\n",
       ".xr-array-data {\n",
       "  padding: 0 5px !important;\n",
       "  grid-column: 2;\n",
       "}\n",
       "\n",
       ".xr-array-data,\n",
       ".xr-array-in:checked ~ .xr-array-preview {\n",
       "  display: none;\n",
       "}\n",
       "\n",
       ".xr-array-in:checked ~ .xr-array-data,\n",
       ".xr-array-preview {\n",
       "  display: inline-block;\n",
       "}\n",
       "\n",
       ".xr-dim-list {\n",
       "  display: inline-block !important;\n",
       "  list-style: none;\n",
       "  padding: 0 !important;\n",
       "  margin: 0;\n",
       "}\n",
       "\n",
       ".xr-dim-list li {\n",
       "  display: inline-block;\n",
       "  padding: 0;\n",
       "  margin: 0;\n",
       "}\n",
       "\n",
       ".xr-dim-list:before {\n",
       "  content: '(';\n",
       "}\n",
       "\n",
       ".xr-dim-list:after {\n",
       "  content: ')';\n",
       "}\n",
       "\n",
       ".xr-dim-list li:not(:last-child):after {\n",
       "  content: ',';\n",
       "  padding-right: 5px;\n",
       "}\n",
       "\n",
       ".xr-has-index {\n",
       "  font-weight: bold;\n",
       "}\n",
       "\n",
       ".xr-var-list,\n",
       ".xr-var-item {\n",
       "  display: contents;\n",
       "}\n",
       "\n",
       ".xr-var-item > div,\n",
       ".xr-var-item label,\n",
       ".xr-var-item > .xr-var-name span {\n",
       "  background-color: var(--xr-background-color-row-even);\n",
       "  margin-bottom: 0;\n",
       "}\n",
       "\n",
       ".xr-var-item > .xr-var-name:hover span {\n",
       "  padding-right: 5px;\n",
       "}\n",
       "\n",
       ".xr-var-list > li:nth-child(odd) > div,\n",
       ".xr-var-list > li:nth-child(odd) > label,\n",
       ".xr-var-list > li:nth-child(odd) > .xr-var-name span {\n",
       "  background-color: var(--xr-background-color-row-odd);\n",
       "}\n",
       "\n",
       ".xr-var-name {\n",
       "  grid-column: 1;\n",
       "}\n",
       "\n",
       ".xr-var-dims {\n",
       "  grid-column: 2;\n",
       "}\n",
       "\n",
       ".xr-var-dtype {\n",
       "  grid-column: 3;\n",
       "  text-align: right;\n",
       "  color: var(--xr-font-color2);\n",
       "}\n",
       "\n",
       ".xr-var-preview {\n",
       "  grid-column: 4;\n",
       "}\n",
       "\n",
       ".xr-index-preview {\n",
       "  grid-column: 2 / 5;\n",
       "  color: var(--xr-font-color2);\n",
       "}\n",
       "\n",
       ".xr-var-name,\n",
       ".xr-var-dims,\n",
       ".xr-var-dtype,\n",
       ".xr-preview,\n",
       ".xr-attrs dt {\n",
       "  white-space: nowrap;\n",
       "  overflow: hidden;\n",
       "  text-overflow: ellipsis;\n",
       "  padding-right: 10px;\n",
       "}\n",
       "\n",
       ".xr-var-name:hover,\n",
       ".xr-var-dims:hover,\n",
       ".xr-var-dtype:hover,\n",
       ".xr-attrs dt:hover {\n",
       "  overflow: visible;\n",
       "  width: auto;\n",
       "  z-index: 1;\n",
       "}\n",
       "\n",
       ".xr-var-attrs,\n",
       ".xr-var-data,\n",
       ".xr-index-data {\n",
       "  display: none;\n",
       "  background-color: var(--xr-background-color) !important;\n",
       "  padding-bottom: 5px !important;\n",
       "}\n",
       "\n",
       ".xr-var-attrs-in:checked ~ .xr-var-attrs,\n",
       ".xr-var-data-in:checked ~ .xr-var-data,\n",
       ".xr-index-data-in:checked ~ .xr-index-data {\n",
       "  display: block;\n",
       "}\n",
       "\n",
       ".xr-var-data > table {\n",
       "  float: right;\n",
       "}\n",
       "\n",
       ".xr-var-name span,\n",
       ".xr-var-data,\n",
       ".xr-index-name div,\n",
       ".xr-index-data,\n",
       ".xr-attrs {\n",
       "  padding-left: 25px !important;\n",
       "}\n",
       "\n",
       ".xr-attrs,\n",
       ".xr-var-attrs,\n",
       ".xr-var-data,\n",
       ".xr-index-data {\n",
       "  grid-column: 1 / -1;\n",
       "}\n",
       "\n",
       "dl.xr-attrs {\n",
       "  padding: 0;\n",
       "  margin: 0;\n",
       "  display: grid;\n",
       "  grid-template-columns: 125px auto;\n",
       "}\n",
       "\n",
       ".xr-attrs dt,\n",
       ".xr-attrs dd {\n",
       "  padding: 0;\n",
       "  margin: 0;\n",
       "  float: left;\n",
       "  padding-right: 10px;\n",
       "  width: auto;\n",
       "}\n",
       "\n",
       ".xr-attrs dt {\n",
       "  font-weight: normal;\n",
       "  grid-column: 1;\n",
       "}\n",
       "\n",
       ".xr-attrs dt:hover span {\n",
       "  display: inline-block;\n",
       "  background: var(--xr-background-color);\n",
       "  padding-right: 10px;\n",
       "}\n",
       "\n",
       ".xr-attrs dd {\n",
       "  grid-column: 2;\n",
       "  white-space: pre-wrap;\n",
       "  word-break: break-all;\n",
       "}\n",
       "\n",
       ".xr-icon-database,\n",
       ".xr-icon-file-text2,\n",
       ".xr-no-icon {\n",
       "  display: inline-block;\n",
       "  vertical-align: middle;\n",
       "  width: 1em;\n",
       "  height: 1.5em !important;\n",
       "  stroke-width: 0;\n",
       "  stroke: currentColor;\n",
       "  fill: currentColor;\n",
       "}\n",
       "</style><pre class='xr-text-repr-fallback'>&lt;xarray.Dataset&gt;\n",
       "Dimensions:             (lat: 180, nbounds: 2, lon: 360, depth: 102, time: 1)\n",
       "Coordinates:\n",
       "  * lat                 (lat) float32 -89.5 -88.5 -87.5 -86.5 ... 87.5 88.5 89.5\n",
       "  * lon                 (lon) float32 -179.5 -178.5 -177.5 ... 177.5 178.5 179.5\n",
       "  * depth               (depth) float32 0.0 5.0 10.0 ... 5.3e+03 5.4e+03 5.5e+03\n",
       "  * time                (time) float32 4.326e+03\n",
       "Dimensions without coordinates: nbounds\n",
       "Data variables:\n",
       "    crs                 int32 ...\n",
       "    lat_bnds            (lat, nbounds) float32 ...\n",
       "    lon_bnds            (lon, nbounds) float32 ...\n",
       "    depth_bnds          (depth, nbounds) float32 ...\n",
       "    climatology_bounds  (time, nbounds) float32 ...\n",
       "    t_an                (time, depth, lat, lon) float32 ...\n",
       "    t_mn                (time, depth, lat, lon) float32 ...\n",
       "    t_dd                (time, depth, lat, lon) float64 ...\n",
       "    t_sd                (time, depth, lat, lon) float32 ...\n",
       "    t_se                (time, depth, lat, lon) float32 ...\n",
       "    t_oa                (time, depth, lat, lon) float32 ...\n",
       "    t_gp                (time, depth, lat, lon) float64 ...\n",
       "Attributes: (12/49)\n",
       "    Conventions:                     CF-1.6, ACDD-1.3\n",
       "    title:                           World Ocean Atlas 2018 : sea_water_tempe...\n",
       "    summary:                         Climatological mean temperature for the ...\n",
       "    references:                      Locarnini, R. A., A. V. Mishonov, O. K. ...\n",
       "    institution:                     National Centers for Environmental Infor...\n",
       "    comment:                         global climatology as part of the World ...\n",
       "    ...                              ...\n",
       "    publisher_email:                 NCEI.info@noaa.gov\n",
       "    nodc_template_version:           NODC_NetCDF_Grid_Template_v2.0\n",
       "    license:                         These data are openly available to the p...\n",
       "    metadata_link:                   https://www.nodc.noaa.gov/OC5/woa18/\n",
       "    date_created:                    2019-07-28 \n",
       "    date_modified:                   2019-07-28 </pre><div class='xr-wrap' style='display:none'><div class='xr-header'><div class='xr-obj-type'>xarray.Dataset</div></div><ul class='xr-sections'><li class='xr-section-item'><input id='section-cb776ca7-7648-40a4-a37e-b552db2b7e9a' class='xr-section-summary-in' type='checkbox' disabled ><label for='section-cb776ca7-7648-40a4-a37e-b552db2b7e9a' class='xr-section-summary'  title='Expand/collapse section'>Dimensions:</label><div class='xr-section-inline-details'><ul class='xr-dim-list'><li><span class='xr-has-index'>lat</span>: 180</li><li><span>nbounds</span>: 2</li><li><span class='xr-has-index'>lon</span>: 360</li><li><span class='xr-has-index'>depth</span>: 102</li><li><span class='xr-has-index'>time</span>: 1</li></ul></div><div class='xr-section-details'></div></li><li class='xr-section-item'><input id='section-bedf6b0f-5043-413d-b0f8-23092f304df1' class='xr-section-summary-in' type='checkbox'  checked><label for='section-bedf6b0f-5043-413d-b0f8-23092f304df1' class='xr-section-summary' >Coordinates: <span>(4)</span></label><div class='xr-section-inline-details'></div><div class='xr-section-details'><ul class='xr-var-list'><li class='xr-var-item'><div class='xr-var-name'><span class='xr-has-index'>lat</span></div><div class='xr-var-dims'>(lat)</div><div class='xr-var-dtype'>float32</div><div class='xr-var-preview xr-preview'>-89.5 -88.5 -87.5 ... 88.5 89.5</div><input id='attrs-904eee5b-1ef5-4bbb-8366-2d922f29ad23' class='xr-var-attrs-in' type='checkbox' ><label for='attrs-904eee5b-1ef5-4bbb-8366-2d922f29ad23' title='Show/Hide attributes'><svg class='icon xr-icon-file-text2'><use xlink:href='#icon-file-text2'></use></svg></label><input id='data-dc759181-b158-47fb-b88e-193a8a1ee5b0' class='xr-var-data-in' type='checkbox'><label for='data-dc759181-b158-47fb-b88e-193a8a1ee5b0' title='Show/Hide data repr'><svg class='icon xr-icon-database'><use xlink:href='#icon-database'></use></svg></label><div class='xr-var-attrs'><dl class='xr-attrs'><dt><span>standard_name :</span></dt><dd>latitude</dd><dt><span>long_name :</span></dt><dd>latitude</dd><dt><span>units :</span></dt><dd>degrees_north</dd><dt><span>axis :</span></dt><dd>Y</dd><dt><span>bounds :</span></dt><dd>lat_bnds</dd></dl></div><div class='xr-var-data'><pre>array([-89.5, -88.5, -87.5, -86.5, -85.5, -84.5, -83.5, -82.5, -81.5, -80.5,\n",
       "       -79.5, -78.5, -77.5, -76.5, -75.5, -74.5, -73.5, -72.5, -71.5, -70.5,\n",
       "       -69.5, -68.5, -67.5, -66.5, -65.5, -64.5, -63.5, -62.5, -61.5, -60.5,\n",
       "       -59.5, -58.5, -57.5, -56.5, -55.5, -54.5, -53.5, -52.5, -51.5, -50.5,\n",
       "       -49.5, -48.5, -47.5, -46.5, -45.5, -44.5, -43.5, -42.5, -41.5, -40.5,\n",
       "       -39.5, -38.5, -37.5, -36.5, -35.5, -34.5, -33.5, -32.5, -31.5, -30.5,\n",
       "       -29.5, -28.5, -27.5, -26.5, -25.5, -24.5, -23.5, -22.5, -21.5, -20.5,\n",
       "       -19.5, -18.5, -17.5, -16.5, -15.5, -14.5, -13.5, -12.5, -11.5, -10.5,\n",
       "        -9.5,  -8.5,  -7.5,  -6.5,  -5.5,  -4.5,  -3.5,  -2.5,  -1.5,  -0.5,\n",
       "         0.5,   1.5,   2.5,   3.5,   4.5,   5.5,   6.5,   7.5,   8.5,   9.5,\n",
       "        10.5,  11.5,  12.5,  13.5,  14.5,  15.5,  16.5,  17.5,  18.5,  19.5,\n",
       "        20.5,  21.5,  22.5,  23.5,  24.5,  25.5,  26.5,  27.5,  28.5,  29.5,\n",
       "        30.5,  31.5,  32.5,  33.5,  34.5,  35.5,  36.5,  37.5,  38.5,  39.5,\n",
       "        40.5,  41.5,  42.5,  43.5,  44.5,  45.5,  46.5,  47.5,  48.5,  49.5,\n",
       "        50.5,  51.5,  52.5,  53.5,  54.5,  55.5,  56.5,  57.5,  58.5,  59.5,\n",
       "        60.5,  61.5,  62.5,  63.5,  64.5,  65.5,  66.5,  67.5,  68.5,  69.5,\n",
       "        70.5,  71.5,  72.5,  73.5,  74.5,  75.5,  76.5,  77.5,  78.5,  79.5,\n",
       "        80.5,  81.5,  82.5,  83.5,  84.5,  85.5,  86.5,  87.5,  88.5,  89.5],\n",
       "      dtype=float32)</pre></div></li><li class='xr-var-item'><div class='xr-var-name'><span class='xr-has-index'>lon</span></div><div class='xr-var-dims'>(lon)</div><div class='xr-var-dtype'>float32</div><div class='xr-var-preview xr-preview'>-179.5 -178.5 ... 178.5 179.5</div><input id='attrs-53963f4c-be83-4c64-bb7a-d98b776f7657' class='xr-var-attrs-in' type='checkbox' ><label for='attrs-53963f4c-be83-4c64-bb7a-d98b776f7657' title='Show/Hide attributes'><svg class='icon xr-icon-file-text2'><use xlink:href='#icon-file-text2'></use></svg></label><input id='data-93473b39-7edc-468d-ad6d-b1f325bdf5c5' class='xr-var-data-in' type='checkbox'><label for='data-93473b39-7edc-468d-ad6d-b1f325bdf5c5' title='Show/Hide data repr'><svg class='icon xr-icon-database'><use xlink:href='#icon-database'></use></svg></label><div class='xr-var-attrs'><dl class='xr-attrs'><dt><span>standard_name :</span></dt><dd>longitude</dd><dt><span>long_name :</span></dt><dd>longitude</dd><dt><span>units :</span></dt><dd>degrees_east</dd><dt><span>axis :</span></dt><dd>X</dd><dt><span>bounds :</span></dt><dd>lon_bnds</dd></dl></div><div class='xr-var-data'><pre>array([-179.5, -178.5, -177.5, ...,  177.5,  178.5,  179.5], dtype=float32)</pre></div></li><li class='xr-var-item'><div class='xr-var-name'><span class='xr-has-index'>depth</span></div><div class='xr-var-dims'>(depth)</div><div class='xr-var-dtype'>float32</div><div class='xr-var-preview xr-preview'>0.0 5.0 10.0 ... 5.4e+03 5.5e+03</div><input id='attrs-5265d55e-53ee-487c-9e34-743cbdca8fd9' class='xr-var-attrs-in' type='checkbox' ><label for='attrs-5265d55e-53ee-487c-9e34-743cbdca8fd9' title='Show/Hide attributes'><svg class='icon xr-icon-file-text2'><use xlink:href='#icon-file-text2'></use></svg></label><input id='data-14b93efa-72e6-4a60-a133-6c65e1a4fc8c' class='xr-var-data-in' type='checkbox'><label for='data-14b93efa-72e6-4a60-a133-6c65e1a4fc8c' title='Show/Hide data repr'><svg class='icon xr-icon-database'><use xlink:href='#icon-database'></use></svg></label><div class='xr-var-attrs'><dl class='xr-attrs'><dt><span>standard_name :</span></dt><dd>depth</dd><dt><span>bounds :</span></dt><dd>depth_bnds</dd><dt><span>positive :</span></dt><dd>down</dd><dt><span>units :</span></dt><dd>meters</dd><dt><span>axis :</span></dt><dd>Z</dd></dl></div><div class='xr-var-data'><pre>array([0.00e+00, 5.00e+00, 1.00e+01, 1.50e+01, 2.00e+01, 2.50e+01, 3.00e+01,\n",
       "       3.50e+01, 4.00e+01, 4.50e+01, 5.00e+01, 5.50e+01, 6.00e+01, 6.50e+01,\n",
       "       7.00e+01, 7.50e+01, 8.00e+01, 8.50e+01, 9.00e+01, 9.50e+01, 1.00e+02,\n",
       "       1.25e+02, 1.50e+02, 1.75e+02, 2.00e+02, 2.25e+02, 2.50e+02, 2.75e+02,\n",
       "       3.00e+02, 3.25e+02, 3.50e+02, 3.75e+02, 4.00e+02, 4.25e+02, 4.50e+02,\n",
       "       4.75e+02, 5.00e+02, 5.50e+02, 6.00e+02, 6.50e+02, 7.00e+02, 7.50e+02,\n",
       "       8.00e+02, 8.50e+02, 9.00e+02, 9.50e+02, 1.00e+03, 1.05e+03, 1.10e+03,\n",
       "       1.15e+03, 1.20e+03, 1.25e+03, 1.30e+03, 1.35e+03, 1.40e+03, 1.45e+03,\n",
       "       1.50e+03, 1.55e+03, 1.60e+03, 1.65e+03, 1.70e+03, 1.75e+03, 1.80e+03,\n",
       "       1.85e+03, 1.90e+03, 1.95e+03, 2.00e+03, 2.10e+03, 2.20e+03, 2.30e+03,\n",
       "       2.40e+03, 2.50e+03, 2.60e+03, 2.70e+03, 2.80e+03, 2.90e+03, 3.00e+03,\n",
       "       3.10e+03, 3.20e+03, 3.30e+03, 3.40e+03, 3.50e+03, 3.60e+03, 3.70e+03,\n",
       "       3.80e+03, 3.90e+03, 4.00e+03, 4.10e+03, 4.20e+03, 4.30e+03, 4.40e+03,\n",
       "       4.50e+03, 4.60e+03, 4.70e+03, 4.80e+03, 4.90e+03, 5.00e+03, 5.10e+03,\n",
       "       5.20e+03, 5.30e+03, 5.40e+03, 5.50e+03], dtype=float32)</pre></div></li><li class='xr-var-item'><div class='xr-var-name'><span class='xr-has-index'>time</span></div><div class='xr-var-dims'>(time)</div><div class='xr-var-dtype'>float32</div><div class='xr-var-preview xr-preview'>4.326e+03</div><input id='attrs-b7291bf2-eef0-4752-8cb0-085995ff7bc9' class='xr-var-attrs-in' type='checkbox' ><label for='attrs-b7291bf2-eef0-4752-8cb0-085995ff7bc9' title='Show/Hide attributes'><svg class='icon xr-icon-file-text2'><use xlink:href='#icon-file-text2'></use></svg></label><input id='data-05e64a2c-1834-4883-90f6-447c26c723ad' class='xr-var-data-in' type='checkbox'><label for='data-05e64a2c-1834-4883-90f6-447c26c723ad' title='Show/Hide data repr'><svg class='icon xr-icon-database'><use xlink:href='#icon-database'></use></svg></label><div class='xr-var-attrs'><dl class='xr-attrs'><dt><span>standard_name :</span></dt><dd>time</dd><dt><span>long_name :</span></dt><dd>time</dd><dt><span>units :</span></dt><dd>months since 1955-01-01 00:00:00</dd><dt><span>axis :</span></dt><dd>T</dd><dt><span>climatology :</span></dt><dd>climatology_bounds</dd></dl></div><div class='xr-var-data'><pre>array([4326.], dtype=float32)</pre></div></li></ul></div></li><li class='xr-section-item'><input id='section-f28bff20-803e-4efe-bf3f-9c6d6553ff66' class='xr-section-summary-in' type='checkbox'  checked><label for='section-f28bff20-803e-4efe-bf3f-9c6d6553ff66' class='xr-section-summary' >Data variables: <span>(12)</span></label><div class='xr-section-inline-details'></div><div class='xr-section-details'><ul class='xr-var-list'><li class='xr-var-item'><div class='xr-var-name'><span>crs</span></div><div class='xr-var-dims'>()</div><div class='xr-var-dtype'>int32</div><div class='xr-var-preview xr-preview'>...</div><input id='attrs-c07e7926-bc7e-4d53-bcdb-f2e9e2da1d30' class='xr-var-attrs-in' type='checkbox' ><label for='attrs-c07e7926-bc7e-4d53-bcdb-f2e9e2da1d30' title='Show/Hide attributes'><svg class='icon xr-icon-file-text2'><use xlink:href='#icon-file-text2'></use></svg></label><input id='data-8cb02b2c-3273-417a-a085-1c6a28878143' class='xr-var-data-in' type='checkbox'><label for='data-8cb02b2c-3273-417a-a085-1c6a28878143' title='Show/Hide data repr'><svg class='icon xr-icon-database'><use xlink:href='#icon-database'></use></svg></label><div class='xr-var-attrs'><dl class='xr-attrs'><dt><span>grid_mapping_name :</span></dt><dd>latitude_longitude</dd><dt><span>epsg_code :</span></dt><dd>EPSG:4326</dd><dt><span>longitude_of_prime_meridian :</span></dt><dd>0.0</dd><dt><span>semi_major_axis :</span></dt><dd>6378137.0</dd><dt><span>inverse_flattening :</span></dt><dd>298.25723</dd></dl></div><div class='xr-var-data'><pre>[1 values with dtype=int32]</pre></div></li><li class='xr-var-item'><div class='xr-var-name'><span>lat_bnds</span></div><div class='xr-var-dims'>(lat, nbounds)</div><div class='xr-var-dtype'>float32</div><div class='xr-var-preview xr-preview'>...</div><input id='attrs-9cfd890b-f5da-465d-ad51-05f2c29804ce' class='xr-var-attrs-in' type='checkbox' ><label for='attrs-9cfd890b-f5da-465d-ad51-05f2c29804ce' title='Show/Hide attributes'><svg class='icon xr-icon-file-text2'><use xlink:href='#icon-file-text2'></use></svg></label><input id='data-8d91496a-4edc-4c2a-a797-d999864c6ec5' class='xr-var-data-in' type='checkbox'><label for='data-8d91496a-4edc-4c2a-a797-d999864c6ec5' title='Show/Hide data repr'><svg class='icon xr-icon-database'><use xlink:href='#icon-database'></use></svg></label><div class='xr-var-attrs'><dl class='xr-attrs'><dt><span>comment :</span></dt><dd>latitude bounds</dd></dl></div><div class='xr-var-data'><pre>[360 values with dtype=float32]</pre></div></li><li class='xr-var-item'><div class='xr-var-name'><span>lon_bnds</span></div><div class='xr-var-dims'>(lon, nbounds)</div><div class='xr-var-dtype'>float32</div><div class='xr-var-preview xr-preview'>...</div><input id='attrs-eacef06c-f4b7-48be-b426-8fa7eef101e5' class='xr-var-attrs-in' type='checkbox' ><label for='attrs-eacef06c-f4b7-48be-b426-8fa7eef101e5' title='Show/Hide attributes'><svg class='icon xr-icon-file-text2'><use xlink:href='#icon-file-text2'></use></svg></label><input id='data-637f4be2-6d52-4acc-a29c-d3a845ec5a46' class='xr-var-data-in' type='checkbox'><label for='data-637f4be2-6d52-4acc-a29c-d3a845ec5a46' title='Show/Hide data repr'><svg class='icon xr-icon-database'><use xlink:href='#icon-database'></use></svg></label><div class='xr-var-attrs'><dl class='xr-attrs'><dt><span>comment :</span></dt><dd>longitude bounds</dd></dl></div><div class='xr-var-data'><pre>[720 values with dtype=float32]</pre></div></li><li class='xr-var-item'><div class='xr-var-name'><span>depth_bnds</span></div><div class='xr-var-dims'>(depth, nbounds)</div><div class='xr-var-dtype'>float32</div><div class='xr-var-preview xr-preview'>...</div><input id='attrs-a82b967f-95dd-43b6-bd3a-bbf4085f1b66' class='xr-var-attrs-in' type='checkbox' ><label for='attrs-a82b967f-95dd-43b6-bd3a-bbf4085f1b66' title='Show/Hide attributes'><svg class='icon xr-icon-file-text2'><use xlink:href='#icon-file-text2'></use></svg></label><input id='data-a8cacd16-a27f-4b05-80a9-b70ceb450668' class='xr-var-data-in' type='checkbox'><label for='data-a8cacd16-a27f-4b05-80a9-b70ceb450668' title='Show/Hide data repr'><svg class='icon xr-icon-database'><use xlink:href='#icon-database'></use></svg></label><div class='xr-var-attrs'><dl class='xr-attrs'><dt><span>comment :</span></dt><dd>depth bounds</dd></dl></div><div class='xr-var-data'><pre>[204 values with dtype=float32]</pre></div></li><li class='xr-var-item'><div class='xr-var-name'><span>climatology_bounds</span></div><div class='xr-var-dims'>(time, nbounds)</div><div class='xr-var-dtype'>float32</div><div class='xr-var-preview xr-preview'>...</div><input id='attrs-2e145332-b8ac-4a3b-b21b-3a2b05134aa6' class='xr-var-attrs-in' type='checkbox' ><label for='attrs-2e145332-b8ac-4a3b-b21b-3a2b05134aa6' title='Show/Hide attributes'><svg class='icon xr-icon-file-text2'><use xlink:href='#icon-file-text2'></use></svg></label><input id='data-fae7cf72-6287-4fe8-9308-22cea502bd09' class='xr-var-data-in' type='checkbox'><label for='data-fae7cf72-6287-4fe8-9308-22cea502bd09' title='Show/Hide data repr'><svg class='icon xr-icon-database'><use xlink:href='#icon-database'></use></svg></label><div class='xr-var-attrs'><dl class='xr-attrs'><dt><span>comment :</span></dt><dd>This variable defines the bounds of the climatological time period for each time</dd></dl></div><div class='xr-var-data'><pre>[2 values with dtype=float32]</pre></div></li><li class='xr-var-item'><div class='xr-var-name'><span>t_an</span></div><div class='xr-var-dims'>(time, depth, lat, lon)</div><div class='xr-var-dtype'>float32</div><div class='xr-var-preview xr-preview'>...</div><input id='attrs-54ea5a28-95ea-4eed-b43c-575065bcaf71' class='xr-var-attrs-in' type='checkbox' ><label for='attrs-54ea5a28-95ea-4eed-b43c-575065bcaf71' title='Show/Hide attributes'><svg class='icon xr-icon-file-text2'><use xlink:href='#icon-file-text2'></use></svg></label><input id='data-5a74ae45-e465-4dad-911c-b59eca10cf0c' class='xr-var-data-in' type='checkbox'><label for='data-5a74ae45-e465-4dad-911c-b59eca10cf0c' title='Show/Hide data repr'><svg class='icon xr-icon-database'><use xlink:href='#icon-database'></use></svg></label><div class='xr-var-attrs'><dl class='xr-attrs'><dt><span>standard_name :</span></dt><dd>sea_water_temperature</dd><dt><span>long_name :</span></dt><dd>Objectively analyzed mean fields for sea_water_temperature at standard depth levels.</dd><dt><span>cell_methods :</span></dt><dd>area: mean depth: mean time: mean within years time: mean over years</dd><dt><span>grid_mapping :</span></dt><dd>crs</dd><dt><span>units :</span></dt><dd>degrees_celsius</dd></dl></div><div class='xr-var-data'><pre>[6609600 values with dtype=float32]</pre></div></li><li class='xr-var-item'><div class='xr-var-name'><span>t_mn</span></div><div class='xr-var-dims'>(time, depth, lat, lon)</div><div class='xr-var-dtype'>float32</div><div class='xr-var-preview xr-preview'>...</div><input id='attrs-904af9b5-47f3-4425-97c7-814c9efd6641' class='xr-var-attrs-in' type='checkbox' ><label for='attrs-904af9b5-47f3-4425-97c7-814c9efd6641' title='Show/Hide attributes'><svg class='icon xr-icon-file-text2'><use xlink:href='#icon-file-text2'></use></svg></label><input id='data-1276f6a6-a836-4e22-9d47-b50501c88d88' class='xr-var-data-in' type='checkbox'><label for='data-1276f6a6-a836-4e22-9d47-b50501c88d88' title='Show/Hide data repr'><svg class='icon xr-icon-database'><use xlink:href='#icon-database'></use></svg></label><div class='xr-var-attrs'><dl class='xr-attrs'><dt><span>standard_name :</span></dt><dd>sea_water_temperature</dd><dt><span>long_name :</span></dt><dd>Average of all unflagged interpolated values at each standard depth level for sea_water_temperature in each grid-square which contain at least one measurement.</dd><dt><span>cell_methods :</span></dt><dd>area: mean depth: mean time: mean within years time: mean over years</dd><dt><span>grid_mapping :</span></dt><dd>crs</dd><dt><span>units :</span></dt><dd>degrees_celsius</dd></dl></div><div class='xr-var-data'><pre>[6609600 values with dtype=float32]</pre></div></li><li class='xr-var-item'><div class='xr-var-name'><span>t_dd</span></div><div class='xr-var-dims'>(time, depth, lat, lon)</div><div class='xr-var-dtype'>float64</div><div class='xr-var-preview xr-preview'>...</div><input id='attrs-9a2b1370-1a97-4973-b13c-a53513133702' class='xr-var-attrs-in' type='checkbox' ><label for='attrs-9a2b1370-1a97-4973-b13c-a53513133702' title='Show/Hide attributes'><svg class='icon xr-icon-file-text2'><use xlink:href='#icon-file-text2'></use></svg></label><input id='data-5625db72-f354-44ba-b803-8094bb79652d' class='xr-var-data-in' type='checkbox'><label for='data-5625db72-f354-44ba-b803-8094bb79652d' title='Show/Hide data repr'><svg class='icon xr-icon-database'><use xlink:href='#icon-database'></use></svg></label><div class='xr-var-attrs'><dl class='xr-attrs'><dt><span>standard_name :</span></dt><dd>sea_water_temperature number_of_observations</dd><dt><span>long_name :</span></dt><dd>The number of observations of sea_water_temperature in each grid-square at each standard depth level.</dd><dt><span>cell_methods :</span></dt><dd>area: sum depth: point time: sum</dd><dt><span>grid_mapping :</span></dt><dd>crs</dd><dt><span>units :</span></dt><dd>1</dd></dl></div><div class='xr-var-data'><pre>[6609600 values with dtype=float64]</pre></div></li><li class='xr-var-item'><div class='xr-var-name'><span>t_sd</span></div><div class='xr-var-dims'>(time, depth, lat, lon)</div><div class='xr-var-dtype'>float32</div><div class='xr-var-preview xr-preview'>...</div><input id='attrs-ccd725cd-82dd-4ccb-9008-98155d0dd1b3' class='xr-var-attrs-in' type='checkbox' ><label for='attrs-ccd725cd-82dd-4ccb-9008-98155d0dd1b3' title='Show/Hide attributes'><svg class='icon xr-icon-file-text2'><use xlink:href='#icon-file-text2'></use></svg></label><input id='data-425e2732-8f80-4021-9dd4-2d2a2ebf5bbf' class='xr-var-data-in' type='checkbox'><label for='data-425e2732-8f80-4021-9dd4-2d2a2ebf5bbf' title='Show/Hide data repr'><svg class='icon xr-icon-database'><use xlink:href='#icon-database'></use></svg></label><div class='xr-var-attrs'><dl class='xr-attrs'><dt><span>long_name :</span></dt><dd>The standard deviation about the statistical mean of sea_water_temperature in each grid-square at each standard depth level.</dd><dt><span>cell_methods :</span></dt><dd>area: mean depth: mean time: standard_deviation</dd><dt><span>grid_mapping :</span></dt><dd>crs</dd><dt><span>units :</span></dt><dd>degrees_celsius</dd></dl></div><div class='xr-var-data'><pre>[6609600 values with dtype=float32]</pre></div></li><li class='xr-var-item'><div class='xr-var-name'><span>t_se</span></div><div class='xr-var-dims'>(time, depth, lat, lon)</div><div class='xr-var-dtype'>float32</div><div class='xr-var-preview xr-preview'>...</div><input id='attrs-715556c2-1f7e-4175-aace-e40bcce1231d' class='xr-var-attrs-in' type='checkbox' ><label for='attrs-715556c2-1f7e-4175-aace-e40bcce1231d' title='Show/Hide attributes'><svg class='icon xr-icon-file-text2'><use xlink:href='#icon-file-text2'></use></svg></label><input id='data-333d548c-f852-4ed2-907c-91f4d78ebae0' class='xr-var-data-in' type='checkbox'><label for='data-333d548c-f852-4ed2-907c-91f4d78ebae0' title='Show/Hide data repr'><svg class='icon xr-icon-database'><use xlink:href='#icon-database'></use></svg></label><div class='xr-var-attrs'><dl class='xr-attrs'><dt><span>standard_name :</span></dt><dd>sea_water_temperature standard_error</dd><dt><span>long_name :</span></dt><dd>The standard error about the statistical mean of sea_water_temperature in each grid-square at each standard depth level.</dd><dt><span>cell_methods :</span></dt><dd>area: mean depth: mean time: mean</dd><dt><span>grid_mapping :</span></dt><dd>crs</dd><dt><span>units :</span></dt><dd>degrees_celsius</dd></dl></div><div class='xr-var-data'><pre>[6609600 values with dtype=float32]</pre></div></li><li class='xr-var-item'><div class='xr-var-name'><span>t_oa</span></div><div class='xr-var-dims'>(time, depth, lat, lon)</div><div class='xr-var-dtype'>float32</div><div class='xr-var-preview xr-preview'>...</div><input id='attrs-54af879d-febf-4251-8374-b51e25b7e114' class='xr-var-attrs-in' type='checkbox' ><label for='attrs-54af879d-febf-4251-8374-b51e25b7e114' title='Show/Hide attributes'><svg class='icon xr-icon-file-text2'><use xlink:href='#icon-file-text2'></use></svg></label><input id='data-921a752b-0457-4c1b-8aa6-92b65affa7dc' class='xr-var-data-in' type='checkbox'><label for='data-921a752b-0457-4c1b-8aa6-92b65affa7dc' title='Show/Hide data repr'><svg class='icon xr-icon-database'><use xlink:href='#icon-database'></use></svg></label><div class='xr-var-attrs'><dl class='xr-attrs'><dt><span>standard_name :</span></dt><dd>sea_water_temperature</dd><dt><span>long_name :</span></dt><dd>statistical mean value minus the objectively analyzed mean value for sea_water_temperature.</dd><dt><span>cell_methods :</span></dt><dd>area: mean depth: mean time: mean with years time: mean over years</dd><dt><span>grid_mapping :</span></dt><dd>crs</dd><dt><span>units :</span></dt><dd>degrees_celsius</dd></dl></div><div class='xr-var-data'><pre>[6609600 values with dtype=float32]</pre></div></li><li class='xr-var-item'><div class='xr-var-name'><span>t_gp</span></div><div class='xr-var-dims'>(time, depth, lat, lon)</div><div class='xr-var-dtype'>float64</div><div class='xr-var-preview xr-preview'>...</div><input id='attrs-5af52f52-5e5b-4a00-9d85-ce9b11f97cfa' class='xr-var-attrs-in' type='checkbox' ><label for='attrs-5af52f52-5e5b-4a00-9d85-ce9b11f97cfa' title='Show/Hide attributes'><svg class='icon xr-icon-file-text2'><use xlink:href='#icon-file-text2'></use></svg></label><input id='data-3c370bbb-e51d-4593-afb6-ec79890ad5b3' class='xr-var-data-in' type='checkbox'><label for='data-3c370bbb-e51d-4593-afb6-ec79890ad5b3' title='Show/Hide data repr'><svg class='icon xr-icon-database'><use xlink:href='#icon-database'></use></svg></label><div class='xr-var-attrs'><dl class='xr-attrs'><dt><span>long_name :</span></dt><dd>The number of grid-squares within the smallest radius of influence around each grid-square which contain a statistical mean for sea_water_temperature.</dd><dt><span>cell_methods :</span></dt><dd>area: mean depth: mean time: mean within years time: mean over years</dd><dt><span>grid_mapping :</span></dt><dd>crs</dd><dt><span>units :</span></dt><dd>1</dd></dl></div><div class='xr-var-data'><pre>[6609600 values with dtype=float64]</pre></div></li></ul></div></li><li class='xr-section-item'><input id='section-87e33dfe-a828-411c-8ca2-a2801eac9bd0' class='xr-section-summary-in' type='checkbox'  ><label for='section-87e33dfe-a828-411c-8ca2-a2801eac9bd0' class='xr-section-summary' >Indexes: <span>(4)</span></label><div class='xr-section-inline-details'></div><div class='xr-section-details'><ul class='xr-var-list'><li class='xr-var-item'><div class='xr-index-name'><div>lat</div></div><div class='xr-index-preview'>PandasIndex</div><div></div><input id='index-341f887c-46e5-4f09-b859-f52e5186bec9' class='xr-index-data-in' type='checkbox'/><label for='index-341f887c-46e5-4f09-b859-f52e5186bec9' title='Show/Hide index repr'><svg class='icon xr-icon-database'><use xlink:href='#icon-database'></use></svg></label><div class='xr-index-data'><pre>PandasIndex(Index([-89.5, -88.5, -87.5, -86.5, -85.5, -84.5, -83.5, -82.5, -81.5, -80.5,\n",
       "       ...\n",
       "        80.5,  81.5,  82.5,  83.5,  84.5,  85.5,  86.5,  87.5,  88.5,  89.5],\n",
       "      dtype=&#x27;float32&#x27;, name=&#x27;lat&#x27;, length=180))</pre></div></li><li class='xr-var-item'><div class='xr-index-name'><div>lon</div></div><div class='xr-index-preview'>PandasIndex</div><div></div><input id='index-570d9da5-2bf1-4634-868a-c5696b00ae6f' class='xr-index-data-in' type='checkbox'/><label for='index-570d9da5-2bf1-4634-868a-c5696b00ae6f' title='Show/Hide index repr'><svg class='icon xr-icon-database'><use xlink:href='#icon-database'></use></svg></label><div class='xr-index-data'><pre>PandasIndex(Index([-179.5, -178.5, -177.5, -176.5, -175.5, -174.5, -173.5, -172.5, -171.5,\n",
       "       -170.5,\n",
       "       ...\n",
       "        170.5,  171.5,  172.5,  173.5,  174.5,  175.5,  176.5,  177.5,  178.5,\n",
       "        179.5],\n",
       "      dtype=&#x27;float32&#x27;, name=&#x27;lon&#x27;, length=360))</pre></div></li><li class='xr-var-item'><div class='xr-index-name'><div>depth</div></div><div class='xr-index-preview'>PandasIndex</div><div></div><input id='index-2c172293-d649-4d44-8d1f-e4d5f784f3e1' class='xr-index-data-in' type='checkbox'/><label for='index-2c172293-d649-4d44-8d1f-e4d5f784f3e1' title='Show/Hide index repr'><svg class='icon xr-icon-database'><use xlink:href='#icon-database'></use></svg></label><div class='xr-index-data'><pre>PandasIndex(Index([   0.0,    5.0,   10.0,   15.0,   20.0,   25.0,   30.0,   35.0,   40.0,\n",
       "         45.0,\n",
       "       ...\n",
       "       4600.0, 4700.0, 4800.0, 4900.0, 5000.0, 5100.0, 5200.0, 5300.0, 5400.0,\n",
       "       5500.0],\n",
       "      dtype=&#x27;float32&#x27;, name=&#x27;depth&#x27;, length=102))</pre></div></li><li class='xr-var-item'><div class='xr-index-name'><div>time</div></div><div class='xr-index-preview'>PandasIndex</div><div></div><input id='index-2d588a49-d3dc-4cbd-8cbd-d1b9216380cd' class='xr-index-data-in' type='checkbox'/><label for='index-2d588a49-d3dc-4cbd-8cbd-d1b9216380cd' title='Show/Hide index repr'><svg class='icon xr-icon-database'><use xlink:href='#icon-database'></use></svg></label><div class='xr-index-data'><pre>PandasIndex(Index([4326.0], dtype=&#x27;float32&#x27;, name=&#x27;time&#x27;))</pre></div></li></ul></div></li><li class='xr-section-item'><input id='section-e763ff0a-2ae6-49ee-a9e5-b5729fd1df1c' class='xr-section-summary-in' type='checkbox'  ><label for='section-e763ff0a-2ae6-49ee-a9e5-b5729fd1df1c' class='xr-section-summary' >Attributes: <span>(49)</span></label><div class='xr-section-inline-details'></div><div class='xr-section-details'><dl class='xr-attrs'><dt><span>Conventions :</span></dt><dd>CF-1.6, ACDD-1.3</dd><dt><span>title :</span></dt><dd>World Ocean Atlas 2018 : sea_water_temperature Annual 1955-2017 1.00 degree</dd><dt><span>summary :</span></dt><dd>Climatological mean temperature for the global ocean from in situ profile data</dd><dt><span>references :</span></dt><dd>Locarnini, R. A., A. V. Mishonov, O. K. Baranova, T. P. Boyer, M. M. Zweng, H. E. Garcia, J. R. Reagan, D. Seidov, K. W. Weathers, C. R. Paver, I. V. Smolyar, 2019: World Ocean Atlas 2018, Volume 1: Temperature.  A. V. Mishonov, Technical Ed., NOAA Atlas NESDIS 81</dd><dt><span>institution :</span></dt><dd>National Centers for Environmental Information (NCEI)</dd><dt><span>comment :</span></dt><dd>global climatology as part of the World Ocean Atlas project</dd><dt><span>id :</span></dt><dd>woa18_decav_t00_01.nc</dd><dt><span>naming_authority :</span></dt><dd>gov.noaa.ncei</dd><dt><span>sea_name :</span></dt><dd>World-Wide Distribution</dd><dt><span>time_coverage_start :</span></dt><dd>1955-01-01</dd><dt><span>time_coverage_end :</span></dt><dd>2017-12-31</dd><dt><span>time_coverage_duration :</span></dt><dd>P63Y</dd><dt><span>time_coverage_resolution :</span></dt><dd>P01Y</dd><dt><span>geospatial_lat_min :</span></dt><dd>-90.0</dd><dt><span>geospatial_lat_max :</span></dt><dd>90.0</dd><dt><span>geospatial_lon_min :</span></dt><dd>-180.0</dd><dt><span>geospatial_lon_max :</span></dt><dd>180.0</dd><dt><span>geospatial_vertical_min :</span></dt><dd>0.0</dd><dt><span>geospatial_vertical_max :</span></dt><dd>5500.0</dd><dt><span>geospatial_lat_units :</span></dt><dd>degrees_north</dd><dt><span>geospatial_lat_resolution :</span></dt><dd>1.00 degrees</dd><dt><span>geospatial_lon_units :</span></dt><dd>degrees_east</dd><dt><span>geospatial_lon_resolution :</span></dt><dd>1.00 degrees</dd><dt><span>geospatial_vertical_units :</span></dt><dd>m</dd><dt><span>geospatial_vertical_resolution :</span></dt><dd>SPECIAL</dd><dt><span>geospatial_vertical_positive :</span></dt><dd>down</dd><dt><span>creator_name :</span></dt><dd>Ocean Climate Laboratory</dd><dt><span>creator_email :</span></dt><dd>NCEI.info@noaa.gov</dd><dt><span>creator_url :</span></dt><dd>http://www.ncei.noaa.gov</dd><dt><span>creator_type :</span></dt><dd>group</dd><dt><span>creator_institution :</span></dt><dd>National Centers for Environmental Information</dd><dt><span>project :</span></dt><dd>World Ocean Atlas Project</dd><dt><span>processing_level :</span></dt><dd>processed</dd><dt><span>keywords :</span></dt><dd>Oceans&lt; Ocean Temperature &gt; Water Temperature</dd><dt><span>keywords_vocabulary :</span></dt><dd>ISO 19115</dd><dt><span>standard_name_vocabulary :</span></dt><dd>CF Standard Name Table v49</dd><dt><span>contributor_name :</span></dt><dd>Ocean Climate Laboratory</dd><dt><span>contributor_role :</span></dt><dd>Calculation of climatologies</dd><dt><span>cdm_data_type :</span></dt><dd>Grid</dd><dt><span>publisher_name :</span></dt><dd>National Centers for Environmental Information (NCEI)</dd><dt><span>publisher_institution :</span></dt><dd>National Centers for Environmental Information</dd><dt><span>publisher_type :</span></dt><dd>institution</dd><dt><span>publisher_url :</span></dt><dd>http://www.ncei.noaa.gov/</dd><dt><span>publisher_email :</span></dt><dd>NCEI.info@noaa.gov</dd><dt><span>nodc_template_version :</span></dt><dd>NODC_NetCDF_Grid_Template_v2.0</dd><dt><span>license :</span></dt><dd>These data are openly available to the public. Please acknowledge the use of these data with the text given in the acknowledgment attribute.</dd><dt><span>metadata_link :</span></dt><dd>https://www.nodc.noaa.gov/OC5/woa18/</dd><dt><span>date_created :</span></dt><dd>2019-07-28 </dd><dt><span>date_modified :</span></dt><dd>2019-07-28 </dd></dl></div></li></ul></div></div>"
      ],
      "text/plain": [
       "<xarray.Dataset>\n",
       "Dimensions:             (lat: 180, nbounds: 2, lon: 360, depth: 102, time: 1)\n",
       "Coordinates:\n",
       "  * lat                 (lat) float32 -89.5 -88.5 -87.5 -86.5 ... 87.5 88.5 89.5\n",
       "  * lon                 (lon) float32 -179.5 -178.5 -177.5 ... 177.5 178.5 179.5\n",
       "  * depth               (depth) float32 0.0 5.0 10.0 ... 5.3e+03 5.4e+03 5.5e+03\n",
       "  * time                (time) float32 4.326e+03\n",
       "Dimensions without coordinates: nbounds\n",
       "Data variables:\n",
       "    crs                 int32 ...\n",
       "    lat_bnds            (lat, nbounds) float32 ...\n",
       "    lon_bnds            (lon, nbounds) float32 ...\n",
       "    depth_bnds          (depth, nbounds) float32 ...\n",
       "    climatology_bounds  (time, nbounds) float32 ...\n",
       "    t_an                (time, depth, lat, lon) float32 ...\n",
       "    t_mn                (time, depth, lat, lon) float32 ...\n",
       "    t_dd                (time, depth, lat, lon) float64 ...\n",
       "    t_sd                (time, depth, lat, lon) float32 ...\n",
       "    t_se                (time, depth, lat, lon) float32 ...\n",
       "    t_oa                (time, depth, lat, lon) float32 ...\n",
       "    t_gp                (time, depth, lat, lon) float64 ...\n",
       "Attributes: (12/49)\n",
       "    Conventions:                     CF-1.6, ACDD-1.3\n",
       "    title:                           World Ocean Atlas 2018 : sea_water_tempe...\n",
       "    summary:                         Climatological mean temperature for the ...\n",
       "    references:                      Locarnini, R. A., A. V. Mishonov, O. K. ...\n",
       "    institution:                     National Centers for Environmental Infor...\n",
       "    comment:                         global climatology as part of the World ...\n",
       "    ...                              ...\n",
       "    publisher_email:                 NCEI.info@noaa.gov\n",
       "    nodc_template_version:           NODC_NetCDF_Grid_Template_v2.0\n",
       "    license:                         These data are openly available to the p...\n",
       "    metadata_link:                   https://www.nodc.noaa.gov/OC5/woa18/\n",
       "    date_created:                    2019-07-28 \n",
       "    date_modified:                   2019-07-28 "
      ]
     },
     "metadata": {},
     "output_type": "display_data"
    }
   ],
   "source": [
    "# what packages do you need to import\n",
    "import xarray as xr ## import xarray\n",
    "\n",
    "data = xr.open_dataset(url, decode_times=False) ## opening data from 'url' to store in back into 'data' variable\n",
    "display(data) ## displays data to then analyze\n",
    "\n",
    "# your code\n",
    "\n",
    "# display your dataframe\n"
   ]
  },
  {
   "cell_type": "code",
   "execution_count": null,
   "metadata": {
    "tags": []
   },
   "outputs": [],
   "source": [
    "## OPTIONAL SECTION \n",
    "# your code\n",
    "\n",
    "# your plots \n",
    "\n",
    "..."
   ]
  },
  {
   "cell_type": "markdown",
   "metadata": {
    "deletable": false,
    "editable": false,
    "id": "9942aIgsl_nh"
   },
   "source": [
    "<!-- END QUESTION -->\n",
    "\n",
    "<!-- BEGIN QUESTION -->\n",
    "\n",
    "# Reflection questions (5 minutes)\n",
    "The purpose of the reflection is to inform us as instructors about students comfort level with course content. We use these answers to inform how we spend class time and design coursework in subsequent weeks. This question is graded for completeness, so please answer each question in the text box below. Be concise in your answers (max. 2 sentences). \n",
    "\n",
    "1) What do you feel you excelled at in this exercise? Why?\n",
    "\n",
    "2) What did you struggle with most in the exercise? Why?\n",
    "\n",
    "3) Is there any section of the question that you did not complete? If so, briefly describe why and the section you spent the most time on. \n",
    "\n",
    "4) Is there any topic you feel we need to revisit or review in class? Why?"
   ]
  },
  {
   "cell_type": "markdown",
   "metadata": {},
   "source": [
    "1) We excelled at using xarray to open the 'url' data and store the information back into a new variable because the denotation was straightforward and was not as confusing as before with pd and having to know exact argument names.\n",
    "\n",
    "2) Learning how to expand and analyze the data in order to answer the follwing questions from 3. This was more difficult when there's a lot of information to look at at one time and it's not clear where to look.\n",
    "\n",
    "3) We spent the most time analyzing the data from the previous question, with similar reasoning as stated above. \n",
    "\n",
    "4) Revisiting how to sort through datasets after storing the data back into a new variable.   "
   ]
  },
  {
   "cell_type": "markdown",
   "metadata": {
    "deletable": false,
    "editable": false
   },
   "source": [
    "<!-- END QUESTION -->\n",
    "\n"
   ]
  }
 ],
 "metadata": {
  "colab": {
   "provenance": [
    {
     "file_id": "17Vgryj4ZiprQ93dGV6lYANwXoBTMhnE2",
     "timestamp": 1667505149985
    }
   ]
  },
  "kernelspec": {
   "display_name": "Python 3 (ipykernel)",
   "language": "python",
   "name": "python3"
  },
  "language_info": {
   "codemirror_mode": {
    "name": "ipython",
    "version": 3
   },
   "file_extension": ".py",
   "mimetype": "text/x-python",
   "name": "python",
   "nbconvert_exporter": "python",
   "pygments_lexer": "ipython3",
   "version": "3.10.10"
  },
  "otter": {
   "OK_FORMAT": true,
   "tests": {
    "Question 1, Part 1": {
     "name": "Question 1, Part 1",
     "points": 0,
     "suites": [
      {
       "cases": [
        {
         "code": ">>> # test if columns and indices are correct\n>>> (list(salmon_df.columns) == ['Chinook', 'Coho', 'Sockeye']) and (salmon_df.index.dtype == '<M8[ns]')\nTrue",
         "failure_message": "Check your salmon_df columns or indices!",
         "hidden": false,
         "locked": false,
         "points": 0
        },
        {
         "code": ">>> # test if shape of salmon_df is correct (are all the data there?)\n>>> salmon_df.shape == (419, 3)\nTrue",
         "failure_message": "Check your salmon_df shape!",
         "hidden": false,
         "locked": false,
         "points": 0
        }
       ],
       "scored": true,
       "setup": "",
       "teardown": "",
       "type": "doctest"
      }
     ]
    },
    "Question 1, Part 3": {
     "name": "Question 1, Part 3",
     "points": 0,
     "suites": [
      {
       "cases": [
        {
         "code": ">>> # test if columns and indices are correct\n>>> len(sockeye_2020.loc[sockeye_2020.notnull()]) == 64\nTrue",
         "failure_message": "Check your sockeye_2020 variable!",
         "hidden": false,
         "locked": false,
         "points": 0
        },
        {
         "code": ">>> # test if columns and indices are correct\n>>> len(sockeye_2013.loc[sockeye_2013.notnull()]) == 56\nTrue",
         "failure_message": "Check your sockeye_2013 variable!",
         "hidden": false,
         "locked": false,
         "points": 0
        },
        {
         "code": ">>> # test if columns and indices are correct\n>>> int(max_2020) == 1961\nTrue",
         "failure_message": "Check your sockeye_2020 variable!",
         "hidden": false,
         "locked": false,
         "points": 0
        },
        {
         "code": ">>> # test if columns and indices are correct\n>>> int(max_2013) == 12936\nTrue",
         "failure_message": "Check your max_2013 variable!",
         "hidden": false,
         "locked": false,
         "points": 0
        },
        {
         "code": ">>> # test if columns and indices are correct\n>>> int(total_2020) == 22954\nTrue",
         "failure_message": "Check your sum_2020 variable!",
         "hidden": false,
         "locked": false,
         "points": 0
        },
        {
         "code": ">>> # test if columns and indices are correct\n>>> int(total_2013) == 178422\nTrue",
         "failure_message": "Check your sum_2013 variable!",
         "hidden": false,
         "locked": false,
         "points": 0
        }
       ],
       "scored": true,
       "setup": "",
       "teardown": "",
       "type": "doctest"
      }
     ]
    }
   }
  }
 },
 "nbformat": 4,
 "nbformat_minor": 4
}
